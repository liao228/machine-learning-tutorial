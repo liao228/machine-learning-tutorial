{
 "cells": [
  {
   "cell_type": "markdown",
   "metadata": {},
   "source": [
    "第一課 分類問題"
   ]
  },
  {
   "cell_type": "markdown",
   "metadata": {
    "tags": []
   },
   "source": [
    "以鳶尾花 (iris) 為例，以萼片(sepal)與花瓣(petal)的長度(length)與寬度(width)來分類鳶尾花的品種，品種分別有山鳶尾(iris setosa)、變色鳶尾(iris versicolor)及維吉尼亞鴛尾(iris virginica)。示意圖如下\n",
    "\n",
    "![Image of iris sepal petal](https://www.integratedots.com/wp-content/uploads/2019/06/iris_petal-sepal-e1560211020463.png)\n",
    "\n",
    "(參考 https://www.integratedots.com/determine-number-of-iris-species-with-k-means/)"
   ]
  },
  {
   "cell_type": "code",
   "execution_count": 1,
   "metadata": {},
   "outputs": [
    {
     "data": {
      "text/plain": [
       "['data',\n",
       " 'target',\n",
       " 'frame',\n",
       " 'target_names',\n",
       " 'DESCR',\n",
       " 'feature_names',\n",
       " 'filename']"
      ]
     },
     "execution_count": 1,
     "metadata": {},
     "output_type": "execute_result"
    }
   ],
   "source": [
    "from sklearn import datasets\n",
    "# 載入資料集\n",
    "iris = datasets.load_iris()\n",
    "# 列出資料欄位，分別為(長寬資料、每一筆資料對應的類別、資料框架(此資料集不使用)、類別標籤、資料集完整描述、特徵名稱、資料集檔名)\n",
    "list(iris.keys())"
   ]
  },
  {
   "cell_type": "code",
   "execution_count": 2,
   "metadata": {},
   "outputs": [
    {
     "name": "stdout",
     "output_type": "stream",
     "text": [
      ".. _iris_dataset:\n",
      "\n",
      "Iris plants dataset\n",
      "--------------------\n",
      "\n",
      "**Data Set Characteristics:**\n",
      "\n",
      "    :Number of Instances: 150 (50 in each of three classes)\n",
      "    :Number of Attributes: 4 numeric, predictive attributes and the class\n",
      "    :Attribute Information:\n",
      "        - sepal length in cm\n",
      "        - sepal width in cm\n",
      "        - petal length in cm\n",
      "        - petal width in cm\n",
      "        - class:\n",
      "                - Iris-Setosa\n",
      "                - Iris-Versicolour\n",
      "                - Iris-Virginica\n",
      "                \n",
      "    :Summary Statistics:\n",
      "\n",
      "    ============== ==== ==== ======= ===== ====================\n",
      "                    Min  Max   Mean    SD   Class Correlation\n",
      "    ============== ==== ==== ======= ===== ====================\n",
      "    sepal length:   4.3  7.9   5.84   0.83    0.7826\n",
      "    sepal width:    2.0  4.4   3.05   0.43   -0.4194\n",
      "    petal length:   1.0  6.9   3.76   1.76    0.9490  (high!)\n",
      "    petal width:    0.1  2.5   1.20   0.76    0.9565  (high!)\n",
      "    ============== ==== ==== ======= ===== ====================\n",
      "\n",
      "    :Missing Attribute Values: None\n",
      "    :Class Distribution: 33.3% for each of 3 classes.\n",
      "    :Creator: R.A. Fisher\n",
      "    :Donor: Michael Marshall (MARSHALL%PLU@io.arc.nasa.gov)\n",
      "    :Date: July, 1988\n",
      "\n",
      "The famous Iris database, first used by Sir R.A. Fisher. The dataset is taken\n",
      "from Fisher's paper. Note that it's the same as in R, but not as in the UCI\n",
      "Machine Learning Repository, which has two wrong data points.\n",
      "\n",
      "This is perhaps the best known database to be found in the\n",
      "pattern recognition literature.  Fisher's paper is a classic in the field and\n",
      "is referenced frequently to this day.  (See Duda & Hart, for example.)  The\n",
      "data set contains 3 classes of 50 instances each, where each class refers to a\n",
      "type of iris plant.  One class is linearly separable from the other 2; the\n",
      "latter are NOT linearly separable from each other.\n",
      "\n",
      ".. topic:: References\n",
      "\n",
      "   - Fisher, R.A. \"The use of multiple measurements in taxonomic problems\"\n",
      "     Annual Eugenics, 7, Part II, 179-188 (1936); also in \"Contributions to\n",
      "     Mathematical Statistics\" (John Wiley, NY, 1950).\n",
      "   - Duda, R.O., & Hart, P.E. (1973) Pattern Classification and Scene Analysis.\n",
      "     (Q327.D83) John Wiley & Sons.  ISBN 0-471-22361-1.  See page 218.\n",
      "   - Dasarathy, B.V. (1980) \"Nosing Around the Neighborhood: A New System\n",
      "     Structure and Classification Rule for Recognition in Partially Exposed\n",
      "     Environments\".  IEEE Transactions on Pattern Analysis and Machine\n",
      "     Intelligence, Vol. PAMI-2, No. 1, 67-71.\n",
      "   - Gates, G.W. (1972) \"The Reduced Nearest Neighbor Rule\".  IEEE Transactions\n",
      "     on Information Theory, May 1972, 431-433.\n",
      "   - See also: 1988 MLC Proceedings, 54-64.  Cheeseman et al\"s AUTOCLASS II\n",
      "     conceptual clustering system finds 3 classes in the data.\n",
      "   - Many, many more ...\n"
     ]
    }
   ],
   "source": [
    "# 列出資料集完整描述\n",
    "print(iris.DESCR)"
   ]
  },
  {
   "cell_type": "markdown",
   "metadata": {},
   "source": [
    "分類問題\n",
    "\n",
    "使用 iris 資料集，以花瓣長度與花瓣寬度來分類"
   ]
  },
  {
   "cell_type": "markdown",
   "metadata": {},
   "source": [
    "操作方式一、直接使用矩陣操作"
   ]
  },
  {
   "cell_type": "code",
   "execution_count": 3,
   "metadata": {},
   "outputs": [],
   "source": [
    "# 載入函式庫\n",
    "%matplotlib inline\n",
    "from sklearn.linear_model import LogisticRegression\n",
    "import matplotlib.pyplot as plt\n",
    "import numpy as np"
   ]
  },
  {
   "cell_type": "code",
   "execution_count": 4,
   "metadata": {
    "scrolled": true
   },
   "outputs": [],
   "source": [
    "# 1.1 挑選資料\n",
    "# 共有 150 筆資料(每個品種 50 筆資料)，每筆資料有四個屬性，分別為萼片長度、萼片寬度、花瓣長度與花瓣寬度\n",
    "# 資料是順序排列，挑選後一百筆，即為iris versicolor與iris virginica。\n",
    "X = iris[\"data\"][50:149, (2, 3)]  # 花瓣長度 (petal length),花瓣寬度 (petal width)\n",
    "y = (iris[\"target\"][50:149] == 2).astype(np.int)"
   ]
  },
  {
   "cell_type": "code",
   "execution_count": 5,
   "metadata": {},
   "outputs": [
    {
     "data": {
      "image/png": "[encoded data removed]",
      "text/plain": [
       "<Figure size 864x288 with 2 Axes>"
      ]
     },
     "metadata": {
      "needs_background": "light"
     },
     "output_type": "display_data"
    }
   ],
   "source": [
    "# 1.2 參考一種特徵\n",
    "\n",
    "# 以花瓣長度作為特徵\n",
    "# 將兩類資料分為 X_versicolor 與 X_virginica\n",
    "X_versicolor_length = X[0:49, 0]\n",
    "X_virginica_length = X[50:99, 0]\n",
    "\n",
    "# 以花瓣寬度作為特徵\n",
    "# 將兩類資料分為 X_versicolor 與 X_virginica\n",
    "X_versicolor_width = X[0:49, 1]\n",
    "X_virginica_width = X[50:99, 1]\n",
    "\n",
    "# 繪圖\n",
    "kwargs_versicolor = dict(histtype='step', bins=15, color=\"g\", linewidth=2, alpha=0.7)\n",
    "kwargs_virginica = dict(histtype='step', bins=15, color=\"b\", linewidth=2, alpha=0.7)\n",
    "fig, axes = plt.subplots(ncols=2, figsize=(12, 4))\n",
    "# 繪製長度特徵\n",
    "plt.sca(axes[0])\n",
    "plt.hist(X_versicolor_length, **kwargs_versicolor)\n",
    "plt.hist(X_virginica_length, **kwargs_virginica)\n",
    "# 分類線\n",
    "plt.axvline(4.82, 0, 10, linestyle= '--', color=\"r\", linewidth=2)\n",
    "# 圖的說明\n",
    "plt.text(3.5, 10, iris[\"target_names\"][1], fontsize=14, color=\"g\", ha=\"center\")\n",
    "plt.text(6.5, 10, iris[\"target_names\"][2], fontsize=14, color=\"b\", ha=\"center\")\n",
    "plt.xlabel(\"petal length\", fontsize=14)\n",
    "plt.ylabel(\"number\", fontsize=14)\n",
    "# 繪製寬度特徵\n",
    "plt.sca(axes[1])\n",
    "plt.hist(X_versicolor_width, **kwargs_versicolor)\n",
    "plt.hist(X_virginica_width, **kwargs_virginica)\n",
    "# 分類線\n",
    "plt.axvline(1.695, 0, 10, linestyle= '--', color=\"r\", linewidth=2, alpha=0.7)\n",
    "# 圖的說明\n",
    "plt.text(1.1, 11, iris[\"target_names\"][1], fontsize=14, color=\"g\", ha=\"center\")\n",
    "plt.text(2.4, 11, iris[\"target_names\"][2], fontsize=14, color=\"b\", ha=\"center\")\n",
    "plt.xlabel(\"petal width\", fontsize=14)\n",
    "plt.ylabel(\"number\", fontsize=14)\n",
    "plt.show()"
   ]
  },
  {
   "cell_type": "code",
   "execution_count": 6,
   "metadata": {},
   "outputs": [
    {
     "data": {
      "image/png": "[encoded data removed]",
      "text/plain": [
       "<Figure size 720x288 with 1 Axes>"
      ]
     },
     "metadata": {
      "needs_background": "light"
     },
     "output_type": "display_data"
    }
   ],
   "source": [
    "# 1.3 參考兩種特徵\n",
    "\n",
    "# 使用Logistic 回歸分類\n",
    "def CalLogisticRegression(X, y, left_right):\n",
    "    log_reg = LogisticRegression(solver=\"lbfgs\", C=10**10, random_state=42)\n",
    "    log_reg.fit(X, y)\n",
    "    boundary = -(log_reg.coef_[0][0] * left_right + log_reg.intercept_[0]) / log_reg.coef_[0][1]\n",
    "    return boundary\n",
    "\n",
    "\n",
    "#繪圖\n",
    "plt.figure(figsize=(10, 4))\n",
    "x_min = np.min(X[:, 0]) - 0.2\n",
    "x_max = np.max(X[:, 0]) + 0.2\n",
    "y_min = np.min(X[:, 1]) - 0.2\n",
    "y_max = np.max(X[:, 1]) + 0.2\n",
    "# 屬於 versicolor\n",
    "plt.plot(X[y==0, 0], X[y==0, 1], \"b.\")\n",
    "# 屬於 virginica\n",
    "plt.plot(X[y==1, 0], X[y==1, 1], \"g.\")\n",
    "# 分類線\n",
    "left_right = np.array([x_min, x_max])\n",
    "plt.plot(left_right, CalLogisticRegression(X, y, left_right), \"r--\", linewidth=3)\n",
    "#顯示範圍\n",
    "plt.axis([x_min, x_max, y_min, y_max])\n",
    "# 圖的說明\n",
    "plt.text(3.5, 1.5, iris[\"target_names\"][1], fontsize=14, color=\"b\", ha=\"center\")\n",
    "plt.text(6.5, 2.3, iris[\"target_names\"][2], fontsize=14, color=\"g\", ha=\"center\")\n",
    "plt.xlabel(\"petal length\", fontsize=14)\n",
    "plt.ylabel(\"petal width\", fontsize=14)\n",
    "plt.show()"
   ]
  },
  {
   "cell_type": "markdown",
   "metadata": {},
   "source": [
    "\n",
    "操作方式二、使用 pandas 函式庫來輔助操作"
   ]
  },
  {
   "cell_type": "code",
   "execution_count": 7,
   "metadata": {},
   "outputs": [],
   "source": [
    "# 載入函式庫\n",
    "%matplotlib inline\n",
    "from sklearn.linear_model import LogisticRegression\n",
    "import matplotlib.pyplot as plt\n",
    "import numpy as np\n",
    "import pandas as pd"
   ]
  },
  {
   "cell_type": "code",
   "execution_count": 8,
   "metadata": {
    "scrolled": true
   },
   "outputs": [
    {
     "data": {
      "text/html": [
       "<div>\n",
       "<style scoped>\n",
       "    .dataframe tbody tr th:only-of-type {\n",
       "        vertical-align: middle;\n",
       "    }\n",
       "\n",
       "    .dataframe tbody tr th {\n",
       "        vertical-align: top;\n",
       "    }\n",
       "\n",
       "    .dataframe thead th {\n",
       "        text-align: right;\n",
       "    }\n",
       "</style>\n",
       "<table border=\"1\" class=\"dataframe\">\n",
       "  <thead>\n",
       "    <tr style=\"text-align: right;\">\n",
       "      <th></th>\n",
       "      <th>萼片長度</th>\n",
       "      <th>萼片寬度</th>\n",
       "      <th>花瓣長度</th>\n",
       "      <th>花瓣寬度</th>\n",
       "      <th>類別編號</th>\n",
       "      <th>品種名稱</th>\n",
       "    </tr>\n",
       "  </thead>\n",
       "  <tbody>\n",
       "    <tr>\n",
       "      <th>100</th>\n",
       "      <td>6.3</td>\n",
       "      <td>3.3</td>\n",
       "      <td>6.0</td>\n",
       "      <td>2.5</td>\n",
       "      <td>2</td>\n",
       "      <td>Virginica</td>\n",
       "    </tr>\n",
       "    <tr>\n",
       "      <th>101</th>\n",
       "      <td>5.8</td>\n",
       "      <td>2.7</td>\n",
       "      <td>5.1</td>\n",
       "      <td>1.9</td>\n",
       "      <td>2</td>\n",
       "      <td>Virginica</td>\n",
       "    </tr>\n",
       "    <tr>\n",
       "      <th>102</th>\n",
       "      <td>7.1</td>\n",
       "      <td>3.0</td>\n",
       "      <td>5.9</td>\n",
       "      <td>2.1</td>\n",
       "      <td>2</td>\n",
       "      <td>Virginica</td>\n",
       "    </tr>\n",
       "    <tr>\n",
       "      <th>103</th>\n",
       "      <td>6.3</td>\n",
       "      <td>2.9</td>\n",
       "      <td>5.6</td>\n",
       "      <td>1.8</td>\n",
       "      <td>2</td>\n",
       "      <td>Virginica</td>\n",
       "    </tr>\n",
       "    <tr>\n",
       "      <th>104</th>\n",
       "      <td>6.5</td>\n",
       "      <td>3.0</td>\n",
       "      <td>5.8</td>\n",
       "      <td>2.2</td>\n",
       "      <td>2</td>\n",
       "      <td>Virginica</td>\n",
       "    </tr>\n",
       "  </tbody>\n",
       "</table>\n",
       "</div>"
      ],
      "text/plain": [
       "     萼片長度  萼片寬度  花瓣長度  花瓣寬度  類別編號       品種名稱\n",
       "100   6.3   3.3   6.0   2.5     2  Virginica\n",
       "101   5.8   2.7   5.1   1.9     2  Virginica\n",
       "102   7.1   3.0   5.9   2.1     2  Virginica\n",
       "103   6.3   2.9   5.6   1.8     2  Virginica\n",
       "104   6.5   3.0   5.8   2.2     2  Virginica"
      ]
     },
     "execution_count": 8,
     "metadata": {},
     "output_type": "execute_result"
    }
   ],
   "source": [
    "# 2.1 轉換為 data frame，並以萼片長度、萼片寬度、花瓣長度、花瓣寬度、類別編號與品種名稱的方式呈現。\n",
    "iris_df = pd.DataFrame(iris.data, columns=['萼片長度', '萼片寬度', '花瓣長度', '花瓣寬度'])\n",
    "# 將每一筆資料對應的類別加入 data frame\n",
    "iris_df.loc[:, \"類別編號\"] = iris.target\n",
    "\n",
    "# 設計一個品種名稱對應分類編號的 Dataframe\n",
    "target_labels = {\n",
    "        '類別編號': np.unique(iris.target),    \n",
    "        '品種名稱': ['Setosa', 'Versicolor', 'Virginica'] \n",
    "        }  \n",
    "df_z = pd.DataFrame(target_labels, columns = ['類別編號', '品種名稱'])\n",
    "\n",
    "# 根據類別編號來merge\n",
    "iris_df=pd.merge(iris_df, df_z, on='類別編號')\n",
    "\n",
    "# 觀察前五個觀測值\n",
    "iris_df[iris_df['品種名稱'] == 'Virginica'].head()\n",
    "\n",
    "# 挑選每個類別的第一筆資料\n",
    "#sequences = np.unique(iris.target)\n",
    "#for i in sequences:\n",
    "#    print(iris_df[iris_df['品種名稱'] == target_labels['品種名稱'][i]].head(1))"
   ]
  },
  {
   "cell_type": "code",
   "execution_count": 9,
   "metadata": {},
   "outputs": [
    {
     "name": "stdout",
     "output_type": "stream",
     "text": [
      "['Setosa' 'Versicolor' 'Virginica']\n"
     ]
    }
   ],
   "source": [
    "print(np.unique(iris_df['品種名稱']))"
   ]
  },
  {
   "cell_type": "code",
   "execution_count": 10,
   "metadata": {},
   "outputs": [
    {
     "data": {
      "image/png": "[encoded data removed]",
      "text/plain": [
       "<Figure size 864x288 with 2 Axes>"
      ]
     },
     "metadata": {
      "needs_background": "light"
     },
     "output_type": "display_data"
    }
   ],
   "source": [
    "# 2.2 參考一種特徵\n",
    "\n",
    "# 以花瓣長度作為特徵\n",
    "# 將兩類資料分為 X_versicolor 與 X_virginica\n",
    "\n",
    "X_versicolor_length = iris_df[iris_df[\"品種名稱\"].isin([\"Versicolor\"])]['花瓣長度']\n",
    "X_virginica_length = iris_df[iris_df[\"品種名稱\"].isin([\"Virginica\"])]['花瓣長度']\n",
    "\n",
    "# 以花瓣寬度作為特徵\n",
    "# 將兩類資料分為 X_versicolor 與 X_virginica\n",
    "X_versicolor_width = iris_df[iris_df[\"品種名稱\"].isin([\"Versicolor\"])]['花瓣寬度']\n",
    "X_virginica_width = iris_df[iris_df[\"品種名稱\"].isin([\"Virginica\"])]['花瓣寬度']\n",
    "\n",
    "# 繪圖\n",
    "kwargs_versicolor = dict(histtype='step', bins=15, color=\"b\", linewidth=2, alpha=0.7)\n",
    "kwargs_virginica = dict(histtype='step', bins=15, color=\"g\", linewidth=2, alpha=0.7)\n",
    "fig, axes = plt.subplots(ncols=2, figsize=(12, 4))\n",
    "#繪製長度特徵\n",
    "plt.sca(axes[0])\n",
    "plt.hist(X_versicolor_length, **kwargs_versicolor)\n",
    "plt.hist(X_virginica_length, **kwargs_virginica)\n",
    "# 分類線\n",
    "plt.axvline(4.82, 0, 10, linestyle= '--', color=\"r\", linewidth=2)\n",
    "# 圖的說明\n",
    "plt.text(3.5, 10, iris[\"target_names\"][1], fontsize=14, color=\"b\", ha=\"center\")\n",
    "plt.text(6.5, 10, iris[\"target_names\"][2], fontsize=14, color=\"g\", ha=\"center\")\n",
    "plt.xlabel(\"petal length\", fontsize=14)\n",
    "plt.ylabel(\"number\", fontsize=14)\n",
    "#繪製寬度特徵\n",
    "plt.sca(axes[1])\n",
    "plt.hist(X_versicolor_width, **kwargs_versicolor)\n",
    "plt.hist(X_virginica_width, **kwargs_virginica)\n",
    "# 分類線\n",
    "plt.axvline(1.695, 0, 10, linestyle= '--', color=\"r\", linewidth=2, alpha=0.7)\n",
    "# 圖的說明\n",
    "plt.text(1.1, 11, iris[\"target_names\"][1], fontsize=14, color=\"b\", ha=\"center\")\n",
    "plt.text(2.4, 11, iris[\"target_names\"][2], fontsize=14, color=\"g\", ha=\"center\")\n",
    "plt.xlabel(\"petal width\", fontsize=14)\n",
    "plt.ylabel(\"number\", fontsize=14)\n",
    "plt.show()"
   ]
  },
  {
   "cell_type": "code",
   "execution_count": 11,
   "metadata": {
    "scrolled": true
   },
   "outputs": [
    {
     "data": {
      "image/png": "[encoded data removed]",
      "text/plain": [
       "<Figure size 720x288 with 1 Axes>"
      ]
     },
     "metadata": {
      "needs_background": "light"
     },
     "output_type": "display_data"
    }
   ],
   "source": [
    "# 2.3 參考兩種特徵\n",
    "\n",
    "# 篩選資料\n",
    "# 挑選類別\n",
    "iris_df_select_target = iris_df[iris_df[\"品種名稱\"].isin([\"Versicolor\",\"Virginica\"])]\n",
    "X = np.array([iris_df_select_target['花瓣長度'].tolist(), iris_df_select_target[\"花瓣寬度\"].tolist()]).transpose()\n",
    "y = (iris_df_select_target['類別編號'] != 2).astype(np.int)\n",
    "\n",
    "# 使用Logistic 回歸分類\n",
    "def CalLogisticRegression(X, y, left_right):\n",
    "    log_reg = LogisticRegression(solver=\"lbfgs\", C=10**10, random_state=42)\n",
    "    log_reg.fit(X, y)\n",
    "    boundary = -(log_reg.coef_[0][0] * left_right + log_reg.intercept_[0]) / log_reg.coef_[0][1]\n",
    "    return boundary\n",
    "\n",
    "#繪圖\n",
    "plt.figure(figsize=(10, 4))\n",
    "x_min = np.min(iris_df_select_target['花瓣長度']) - 0.2\n",
    "x_max = np.max(iris_df_select_target['花瓣長度']) + 0.2\n",
    "y_min = np.min(iris_df_select_target[\"花瓣寬度\"]) - 0.2\n",
    "y_max = np.max(iris_df_select_target[\"花瓣寬度\"]) + 0.2\n",
    "# 屬於 versicolor\n",
    "iris_df_select_versicolor = iris_df[iris_df[\"品種名稱\"].isin([\"Versicolor\"])]\n",
    "plt.plot(iris_df_select_versicolor['花瓣長度'], iris_df_select_versicolor['花瓣寬度'], \"b.\")\n",
    "# 屬於 virginica\n",
    "iris_df_select_virginica = iris_df[iris_df[\"品種名稱\"].isin([\"Virginica\"])]\n",
    "plt.plot(iris_df_select_virginica['花瓣長度'], iris_df_select_virginica['花瓣寬度'], \"g.\")\n",
    "# 分類線\n",
    "left_right = np.array([x_min, x_max])\n",
    "plt.plot(left_right, CalLogisticRegression(X, y, left_right), \"r--\", linewidth=3)\n",
    "#顯示範圍\n",
    "plt.axis([x_min, x_max, y_min, y_max])\n",
    "# 圖的說明\n",
    "plt.text(3.5, 1.5, iris[\"target_names\"][1], fontsize=14, color=\"b\", ha=\"center\")\n",
    "plt.text(6.5, 2.3, iris[\"target_names\"][2], fontsize=14, color=\"g\", ha=\"center\")\n",
    "plt.xlabel(\"petal length\", fontsize=14)\n",
    "plt.ylabel(\"petal width\", fontsize=14)\n",
    "plt.show()"
   ]
  }
 ],
 "metadata": {
  "kernelspec": {
   "display_name": "Python 3",
   "language": "python",
   "name": "python3"
  },
  "language_info": {
   "codemirror_mode": {
    "name": "ipython",
    "version": 3
   },
   "file_extension": ".py",
   "mimetype": "text/x-python",
   "name": "python",
   "nbconvert_exporter": "python",
   "pygments_lexer": "ipython3",
   "version": "3.8.3"
  }
 },
 "nbformat": 4,
 "nbformat_minor": 2
}
